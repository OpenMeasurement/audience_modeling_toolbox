{
 "cells": [
  {
   "cell_type": "code",
   "execution_count": 1,
   "metadata": {},
   "outputs": [],
   "source": [
    "# If you have already installed the `audience_modeling_toolbox` comment these two line:\n",
    "!git clone https://github.com/OpenMeasurement/audience_modeling_toolbox/ \n",
    "!python -m pip install \"./audience_modeling_toolbox\""
   ]
  },
  {
   "cell_type": "code",
   "execution_count": 2,
   "metadata": {},
   "outputs": [],
   "source": [
    "import numpy as np\n",
    "import pandas as pd\n",
    "from scipy.ndimage import gaussian_filter, uniform_filter\n",
    "import itertools\n",
    "\n",
    "# Plotting\n",
    "import matplotlib\n",
    "import matplotlib.pyplot as plt\n",
    "\n",
    "import warnings\n",
    "warnings.filterwarnings('ignore')\n",
    "\n",
    "# Importing the package\n",
    "import audience_modeling_toolbox\n",
    "from audience_modeling_toolbox.model import MixtureOfExponentials, MixtureOfDeltas\n",
    "from audience_modeling_toolbox.report import RFReport, generate_report\n",
    "\n",
    "%matplotlib inline"
   ]
  },
  {
   "cell_type": "markdown",
   "metadata": {},
   "source": [
    "# Synthesizing the impression logs\n",
    "\n",
    "In the next few steps, we generate a random society and simulate a random advertising campaign in order to use that data for the *virtual society modeling* later in the notebook.\n",
    "\n",
    "## Generate a random society\n",
    "\n",
    "We start by synthesizing a society of `population_size = 10000` individuals. The population can get exposed to advertising through two distinct media, which we call them `MEDIUM I` and `MEDIUM II`. This is done by choosing a random activity distribution function or ADF. For the example below, we choose either a mixture of exponentials or power law functions based on our expectation of what the society should look like. Note that if the behavior of the society is known we can utilize the known ADF for generation of the the synthetic society. For our current purpose, it is ok to just generate a random society of users that follow a random ADF!\n",
    "\n",
    "You should see the society table generated as a Pandas dataframe with a column called `user_id` and two columns corresponding to the activity of each user on each medium. The numbers on the activity columns for each user indicates how active each user is on `MEDIUM I` and `MEDIUM II` respectively. A more precise definition of the acitivity is *how many impressions does that user recieve for a total average of one impressions per user*."
   ]
  },
  {
   "cell_type": "code",
   "execution_count": 3,
   "metadata": {},
   "outputs": [
    {
     "data": {
      "text/html": [
       "<div>\n",
       "<style scoped>\n",
       "    .dataframe tbody tr th:only-of-type {\n",
       "        vertical-align: middle;\n",
       "    }\n",
       "\n",
       "    .dataframe tbody tr th {\n",
       "        vertical-align: top;\n",
       "    }\n",
       "\n",
       "    .dataframe thead th {\n",
       "        text-align: right;\n",
       "    }\n",
       "</style>\n",
       "<table border=\"1\" class=\"dataframe\">\n",
       "  <thead>\n",
       "    <tr style=\"text-align: right;\">\n",
       "      <th></th>\n",
       "      <th>user_id</th>\n",
       "      <th>MEDIUM I</th>\n",
       "      <th>MEDIUM II</th>\n",
       "    </tr>\n",
       "  </thead>\n",
       "  <tbody>\n",
       "    <tr>\n",
       "      <th>0</th>\n",
       "      <td>0</td>\n",
       "      <td>4.674109</td>\n",
       "      <td>0.430020</td>\n",
       "    </tr>\n",
       "    <tr>\n",
       "      <th>1</th>\n",
       "      <td>1</td>\n",
       "      <td>2.920263</td>\n",
       "      <td>0.270054</td>\n",
       "    </tr>\n",
       "    <tr>\n",
       "      <th>2</th>\n",
       "      <td>2</td>\n",
       "      <td>0.301584</td>\n",
       "      <td>0.110210</td>\n",
       "    </tr>\n",
       "    <tr>\n",
       "      <th>3</th>\n",
       "      <td>3</td>\n",
       "      <td>0.212679</td>\n",
       "      <td>0.340098</td>\n",
       "    </tr>\n",
       "    <tr>\n",
       "      <th>4</th>\n",
       "      <td>4</td>\n",
       "      <td>4.028858</td>\n",
       "      <td>0.272573</td>\n",
       "    </tr>\n",
       "    <tr>\n",
       "      <th>...</th>\n",
       "      <td>...</td>\n",
       "      <td>...</td>\n",
       "      <td>...</td>\n",
       "    </tr>\n",
       "    <tr>\n",
       "      <th>9995</th>\n",
       "      <td>9995</td>\n",
       "      <td>0.138336</td>\n",
       "      <td>1.000698</td>\n",
       "    </tr>\n",
       "    <tr>\n",
       "      <th>9996</th>\n",
       "      <td>9996</td>\n",
       "      <td>0.304709</td>\n",
       "      <td>1.519084</td>\n",
       "    </tr>\n",
       "    <tr>\n",
       "      <th>9997</th>\n",
       "      <td>9997</td>\n",
       "      <td>0.343742</td>\n",
       "      <td>0.433475</td>\n",
       "    </tr>\n",
       "    <tr>\n",
       "      <th>9998</th>\n",
       "      <td>9998</td>\n",
       "      <td>1.011999</td>\n",
       "      <td>0.049450</td>\n",
       "    </tr>\n",
       "    <tr>\n",
       "      <th>9999</th>\n",
       "      <td>9999</td>\n",
       "      <td>0.825787</td>\n",
       "      <td>0.030722</td>\n",
       "    </tr>\n",
       "  </tbody>\n",
       "</table>\n",
       "<p>10000 rows × 3 columns</p>\n",
       "</div>"
      ],
      "text/plain": [
       "      user_id  MEDIUM I  MEDIUM II\n",
       "0           0  4.674109   0.430020\n",
       "1           1  2.920263   0.270054\n",
       "2           2  0.301584   0.110210\n",
       "3           3  0.212679   0.340098\n",
       "4           4  4.028858   0.272573\n",
       "...       ...       ...        ...\n",
       "9995     9995  0.138336   1.000698\n",
       "9996     9996  0.304709   1.519084\n",
       "9997     9997  0.343742   0.433475\n",
       "9998     9998  1.011999   0.049450\n",
       "9999     9999  0.825787   0.030722\n",
       "\n",
       "[10000 rows x 3 columns]"
      ]
     },
     "execution_count": 3,
     "metadata": {},
     "output_type": "execute_result"
    }
   ],
   "source": [
    "# Generation of a random society for two media, \"MEDIUM I\" and \"MEDIUM II\"\n",
    "population_size = 10000\n",
    "media = ['MEDIUM I', 'MEDIUM II']\n",
    "\n",
    "# Random activity distribution function\n",
    "adf = MixtureOfExponentials.random(n_exps=6, n_dims=2, rng=np.random.default_rng(1234)).normalize()\n",
    "\n",
    "# Random society\n",
    "society = adf.generate_virtual_society(\n",
    "    population_size=population_size, \n",
    "    media_cols=media, \n",
    "    id_col=\"user_id\", \n",
    "    mode=\"random\",\n",
    "    rng=np.random.default_rng(1234)\n",
    ")\n",
    "\n",
    "society.dataframe"
   ]
  },
  {
   "cell_type": "markdown",
   "metadata": {},
   "source": [
    "## Simulating a random campaign\n",
    "\n",
    "Now that we have a society with their corresponding acitivities, we can simulate a campaign with a given number of impressions along each medium. Here, for example we choose Gross Rating Points (GRP) of `400%` and `800%` respectively. This corresponds to having `4*population_size` impressions on `MEDIUM I` and `8*population_size` on `MEDIUM II`.\n",
    "\n",
    "You should see the simulated campaign impressions logs below."
   ]
  },
  {
   "cell_type": "code",
   "execution_count": 4,
   "metadata": {},
   "outputs": [
    {
     "data": {
      "text/html": [
       "<div>\n",
       "<style scoped>\n",
       "    .dataframe tbody tr th:only-of-type {\n",
       "        vertical-align: middle;\n",
       "    }\n",
       "\n",
       "    .dataframe tbody tr th {\n",
       "        vertical-align: top;\n",
       "    }\n",
       "\n",
       "    .dataframe thead th {\n",
       "        text-align: right;\n",
       "    }\n",
       "</style>\n",
       "<table border=\"1\" class=\"dataframe\">\n",
       "  <thead>\n",
       "    <tr style=\"text-align: right;\">\n",
       "      <th></th>\n",
       "      <th>user_id</th>\n",
       "      <th>media</th>\n",
       "    </tr>\n",
       "  </thead>\n",
       "  <tbody>\n",
       "    <tr>\n",
       "      <th>0</th>\n",
       "      <td>997</td>\n",
       "      <td>MEDIUM I</td>\n",
       "    </tr>\n",
       "    <tr>\n",
       "      <th>1</th>\n",
       "      <td>2572</td>\n",
       "      <td>MEDIUM I</td>\n",
       "    </tr>\n",
       "    <tr>\n",
       "      <th>2</th>\n",
       "      <td>7488</td>\n",
       "      <td>MEDIUM I</td>\n",
       "    </tr>\n",
       "    <tr>\n",
       "      <th>3</th>\n",
       "      <td>9664</td>\n",
       "      <td>MEDIUM I</td>\n",
       "    </tr>\n",
       "    <tr>\n",
       "      <th>4</th>\n",
       "      <td>6764</td>\n",
       "      <td>MEDIUM I</td>\n",
       "    </tr>\n",
       "    <tr>\n",
       "      <th>...</th>\n",
       "      <td>...</td>\n",
       "      <td>...</td>\n",
       "    </tr>\n",
       "    <tr>\n",
       "      <th>79995</th>\n",
       "      <td>2223</td>\n",
       "      <td>MEDIUM II</td>\n",
       "    </tr>\n",
       "    <tr>\n",
       "      <th>79996</th>\n",
       "      <td>6947</td>\n",
       "      <td>MEDIUM II</td>\n",
       "    </tr>\n",
       "    <tr>\n",
       "      <th>79997</th>\n",
       "      <td>4667</td>\n",
       "      <td>MEDIUM II</td>\n",
       "    </tr>\n",
       "    <tr>\n",
       "      <th>79998</th>\n",
       "      <td>1749</td>\n",
       "      <td>MEDIUM II</td>\n",
       "    </tr>\n",
       "    <tr>\n",
       "      <th>79999</th>\n",
       "      <td>2648</td>\n",
       "      <td>MEDIUM II</td>\n",
       "    </tr>\n",
       "  </tbody>\n",
       "</table>\n",
       "<p>120000 rows × 2 columns</p>\n",
       "</div>"
      ],
      "text/plain": [
       "       user_id      media\n",
       "0          997   MEDIUM I\n",
       "1         2572   MEDIUM I\n",
       "2         7488   MEDIUM I\n",
       "3         9664   MEDIUM I\n",
       "4         6764   MEDIUM I\n",
       "...        ...        ...\n",
       "79995     2223  MEDIUM II\n",
       "79996     6947  MEDIUM II\n",
       "79997     4667  MEDIUM II\n",
       "79998     1749  MEDIUM II\n",
       "79999     2648  MEDIUM II\n",
       "\n",
       "[120000 rows x 2 columns]"
      ]
     },
     "execution_count": 4,
     "metadata": {},
     "output_type": "execute_result"
    }
   ],
   "source": [
    "n_impressions = [4 * population_size, 8 * population_size]\n",
    "impressions = society.simulate_impressions(n_impressions, rng=np.random.default_rng(1234))\n",
    "\n",
    "impressions"
   ]
  },
  {
   "cell_type": "markdown",
   "metadata": {},
   "source": [
    "# The reach surface\n",
    "\n",
    "The reach as a function of frequency on each medium is a surface. For the two dimensional case (where we have two different media) we can visualize that surface using a heatmap. Let us generate a report fom the impressions and look at the corresponding reach surface.\n",
    "\n",
    "Note that this multi-dimensional reach surface entails almost all the information one might ask about the performance of an ad campaign. Reach, exclusive reach, overlap, averge ferquency, reach of on-target-frequency, etc.\n",
    "\n",
    "We can also plot a single medium separately by aggregating along the other dimensions. On the second cell below we show the (possibly more familliar) one dimensional reach/frequency distributions."
   ]
  },
  {
   "cell_type": "code",
   "execution_count": 5,
   "metadata": {},
   "outputs": [
    {
     "data": {
      "text/plain": [
       "Text(0.5, 1.0, 'Two dimensional reach curve (synthetic data)')"
      ]
     },
     "execution_count": 5,
     "metadata": {},
     "output_type": "execute_result"
    },
    {
     "data": {
      "image/png": "[encoded data removed]",
      "text/plain": [
       "<Figure size 432x288 with 2 Axes>"
      ]
     },
     "metadata": {
      "needs_background": "light"
     },
     "output_type": "display_data"
    }
   ],
   "source": [
    "report = generate_report(impressions, population_size=population_size, max_freq=20, id_col=\"user_id\")\n",
    "\n",
    "# Plot report\n",
    "fig, ax = plt.subplots()\n",
    "report.plot_2d_reach(media, ax=ax)\n",
    "ax.set_title(\"Two dimensional reach curve (synthetic data)\")"
   ]
  },
  {
   "cell_type": "code",
   "execution_count": 6,
   "metadata": {},
   "outputs": [
    {
     "data": {
      "image/png": "[encoded data removed]",
      "text/plain": [
       "<Figure size 720x288 with 2 Axes>"
      ]
     },
     "metadata": {
      "needs_background": "light"
     },
     "output_type": "display_data"
    }
   ],
   "source": [
    "# Plot the one dimenaional reach frequency distribution for each medium\n",
    "\n",
    "fig, axs = plt.subplots(1, 2, figsize=(10, 4))\n",
    "for i, medium in enumerate(media) :\n",
    "    report.plot_1d_reach(medium, ax=axs[i])"
   ]
  },
  {
   "cell_type": "markdown",
   "metadata": {},
   "source": [
    "# The total report on a single dimension\n",
    "Other than the marginals we can also collapse the two dimensional report into a single dimensional cross screen report. This is done by assuming the only the total number of exposures are important and not where the exposures has occured. For example we say a person who was exposed `6` times on `MEDIUM I` and `1` time on `MEDIUM II` is treated the same as a person who was exposed `2` times on `MEDIUM I` and `5` times on `MEDIUM II`, this is because they are both exposed `7` times in total!\n",
    "\n",
    "Please note that we advocate against such reporting as we believe an important factor in cross screen advertising performance reporting, is the ability to treat exposures on different media differently. For example advertisers realize that an `30s` ad on a full screen TV is not the same as small on-liner at the bottom of a mobile app."
   ]
  },
  {
   "cell_type": "code",
   "execution_count": 21,
   "metadata": {},
   "outputs": [
    {
     "data": {
      "text/plain": [
       "<AxesSubplot:xlabel='ALL MEDIA', ylabel='Reach'>"
      ]
     },
     "execution_count": 21,
     "metadata": {},
     "output_type": "execute_result"
    },
    {
     "data": {
      "image/png": "[encoded data removed]",
      "text/plain": [
       "<Figure size 432x288 with 1 Axes>"
      ]
     },
     "metadata": {
      "needs_background": "light"
     },
     "output_type": "display_data"
    }
   ],
   "source": [
    "report_1d_all = report.combine_dims(['MEDIUM I', 'MEDIUM II'], 'ALL MEDIA')\n",
    "report_1d_all.plot_1d_reach('ALL MEDIA')"
   ]
  },
  {
   "cell_type": "markdown",
   "metadata": {},
   "source": [
    "# Training the activity distribution function\n",
    "\n",
    "We now  train the activity distribution function (ADF) from the cross measurement report. The ADF is a distribution that explains the exposure berhavior of society. The `ftrunc_reach` method can calculate (predict) the multidimensional reach curve from a given ADF. For a detailed description of how it works, look at the \"mathematical foundations of VID modeling\" page in the documentation.\n",
    "\n",
    "Note that ADF prediction is a smooth function compared to the noisy reality (and later on the noisy virtual society report)"
   ]
  },
  {
   "cell_type": "code",
   "execution_count": 8,
   "metadata": {},
   "outputs": [
    {
     "data": {
      "text/plain": [
       "Text(0.5, 1.0, 'Two dimensional reach curve (ADF reach)')"
      ]
     },
     "execution_count": 8,
     "metadata": {},
     "output_type": "execute_result"
    },
    {
     "data": {
      "image/png": "[encoded data removed]",
      "text/plain": [
       "<Figure size 432x288 with 2 Axes>"
      ]
     },
     "metadata": {
      "needs_background": "light"
     },
     "output_type": "display_data"
    }
   ],
   "source": [
    "adf = MixtureOfExponentials.random(n_exps=6, n_dims=2, rng=np.random.default_rng(1234))\n",
    "adf.train(report)\n",
    "\n",
    "# Plot the ADF generated reach surface\n",
    "fig, ax = plt.subplots()\n",
    "adf.plot_2d_reach(report.gr_values, dim_cols=media, max_freq=20,population_size=population_size,ax=ax)\n",
    "\n",
    "ax.set_title(\"Two dimensional reach curve (ADF reach)\")"
   ]
  },
  {
   "cell_type": "code",
   "execution_count": 9,
   "metadata": {},
   "outputs": [
    {
     "data": {
      "text/html": [
       "<div>\n",
       "<style scoped>\n",
       "    .dataframe tbody tr th:only-of-type {\n",
       "        vertical-align: middle;\n",
       "    }\n",
       "\n",
       "    .dataframe tbody tr th {\n",
       "        vertical-align: top;\n",
       "    }\n",
       "\n",
       "    .dataframe thead th {\n",
       "        text-align: right;\n",
       "    }\n",
       "</style>\n",
       "<table border=\"1\" class=\"dataframe\">\n",
       "  <thead>\n",
       "    <tr style=\"text-align: right;\">\n",
       "      <th></th>\n",
       "      <th>Amplitude</th>\n",
       "      <th>Type</th>\n",
       "      <th>dim=0</th>\n",
       "      <th>dim=1</th>\n",
       "    </tr>\n",
       "  </thead>\n",
       "  <tbody>\n",
       "    <tr>\n",
       "      <th>0</th>\n",
       "      <td>0.587132</td>\n",
       "      <td>NormalExponentialADF</td>\n",
       "      <td>0.588241</td>\n",
       "      <td>0.972041</td>\n",
       "    </tr>\n",
       "    <tr>\n",
       "      <th>1</th>\n",
       "      <td>0.232720</td>\n",
       "      <td>NormalExponentialADF</td>\n",
       "      <td>1.638301</td>\n",
       "      <td>0.740719</td>\n",
       "    </tr>\n",
       "    <tr>\n",
       "      <th>2</th>\n",
       "      <td>0.026880</td>\n",
       "      <td>NormalExponentialADF</td>\n",
       "      <td>0.899718</td>\n",
       "      <td>6.467959</td>\n",
       "    </tr>\n",
       "    <tr>\n",
       "      <th>3</th>\n",
       "      <td>0.021656</td>\n",
       "      <td>NormalExponentialADF</td>\n",
       "      <td>2.387287</td>\n",
       "      <td>3.770633</td>\n",
       "    </tr>\n",
       "    <tr>\n",
       "      <th>4</th>\n",
       "      <td>0.107754</td>\n",
       "      <td>NormalExponentialADF</td>\n",
       "      <td>1.561679</td>\n",
       "      <td>0.704053</td>\n",
       "    </tr>\n",
       "    <tr>\n",
       "      <th>5</th>\n",
       "      <td>0.019177</td>\n",
       "      <td>NormalExponentialADF</td>\n",
       "      <td>0.502614</td>\n",
       "      <td>0.025212</td>\n",
       "    </tr>\n",
       "  </tbody>\n",
       "</table>\n",
       "</div>"
      ],
      "text/plain": [
       "   Amplitude                  Type     dim=0     dim=1\n",
       "0   0.587132  NormalExponentialADF  0.588241  0.972041\n",
       "1   0.232720  NormalExponentialADF  1.638301  0.740719\n",
       "2   0.026880  NormalExponentialADF  0.899718  6.467959\n",
       "3   0.021656  NormalExponentialADF  2.387287  3.770633\n",
       "4   0.107754  NormalExponentialADF  1.561679  0.704053\n",
       "5   0.019177  NormalExponentialADF  0.502614  0.025212"
      ]
     },
     "execution_count": 9,
     "metadata": {},
     "output_type": "execute_result"
    }
   ],
   "source": [
    "adf.info()"
   ]
  },
  {
   "cell_type": "markdown",
   "metadata": {},
   "source": [
    "## The normalization of the acitivity distribution (ADF)\n",
    "The ADF, being a probability distribution should be normalized itself. Even more than that, since each individual activity is also proportional to the probability of exposure on the medium, should be normalized. This mean we expect the average of activities to be very close to `1.0`. The average of activities inidicates what portion of the impressions are recieved by the members. For a real society the average activity is exactly `1.0` as every impression has always had an exposed individual counterpart.\n",
    "\n",
    "You should see that the ADF *and* the activities along all the dimensions are approximately normalized. You can refer to the documentation to learn more about why the normalization condition is not enforced directly during learning."
   ]
  },
  {
   "cell_type": "code",
   "execution_count": 10,
   "metadata": {},
   "outputs": [
    {
     "data": {
      "text/html": [
       "<div>\n",
       "<style scoped>\n",
       "    .dataframe tbody tr th:only-of-type {\n",
       "        vertical-align: middle;\n",
       "    }\n",
       "\n",
       "    .dataframe tbody tr th {\n",
       "        vertical-align: top;\n",
       "    }\n",
       "\n",
       "    .dataframe thead th {\n",
       "        text-align: right;\n",
       "    }\n",
       "</style>\n",
       "<table border=\"1\" class=\"dataframe\">\n",
       "  <thead>\n",
       "    <tr style=\"text-align: right;\">\n",
       "      <th></th>\n",
       "      <th>Distribution</th>\n",
       "      <th>total_magnitude</th>\n",
       "    </tr>\n",
       "  </thead>\n",
       "  <tbody>\n",
       "    <tr>\n",
       "      <th>0</th>\n",
       "      <td>ADF (sum of amplitudes)</td>\n",
       "      <td>0.995319</td>\n",
       "    </tr>\n",
       "    <tr>\n",
       "      <th>1</th>\n",
       "      <td>Activities along dim d=0</td>\n",
       "      <td>0.980439</td>\n",
       "    </tr>\n",
       "    <tr>\n",
       "      <th>2</th>\n",
       "      <td>Activities along dim d=1</td>\n",
       "      <td>1.074959</td>\n",
       "    </tr>\n",
       "  </tbody>\n",
       "</table>\n",
       "</div>"
      ],
      "text/plain": [
       "               Distribution  total_magnitude\n",
       "0   ADF (sum of amplitudes)         0.995319\n",
       "1  Activities along dim d=0         0.980439\n",
       "2  Activities along dim d=1         1.074959"
      ]
     },
     "execution_count": 10,
     "metadata": {},
     "output_type": "execute_result"
    }
   ],
   "source": [
    "adf.normalization_info()"
   ]
  },
  {
   "cell_type": "markdown",
   "metadata": {},
   "source": [
    "# Generating the Virtual society\n",
    "\n",
    "We know generate the vitual society from the ADF. To do so, we start from a uniform distribution of people and map that to the activity distribution that we learned from the data. To get a feel for how the virtual society works we plot the activity distribution of the virtual society as well as the orignal society in the next section."
   ]
  },
  {
   "cell_type": "code",
   "execution_count": 11,
   "metadata": {},
   "outputs": [
    {
     "data": {
      "text/html": [
       "<div>\n",
       "<style scoped>\n",
       "    .dataframe tbody tr th:only-of-type {\n",
       "        vertical-align: middle;\n",
       "    }\n",
       "\n",
       "    .dataframe tbody tr th {\n",
       "        vertical-align: top;\n",
       "    }\n",
       "\n",
       "    .dataframe thead th {\n",
       "        text-align: right;\n",
       "    }\n",
       "</style>\n",
       "<table border=\"1\" class=\"dataframe\">\n",
       "  <thead>\n",
       "    <tr style=\"text-align: right;\">\n",
       "      <th></th>\n",
       "      <th>vid</th>\n",
       "      <th>MEDIUM I</th>\n",
       "      <th>MEDIUM II</th>\n",
       "    </tr>\n",
       "  </thead>\n",
       "  <tbody>\n",
       "    <tr>\n",
       "      <th>0</th>\n",
       "      <td>0</td>\n",
       "      <td>0.008124</td>\n",
       "      <td>0.004772</td>\n",
       "    </tr>\n",
       "    <tr>\n",
       "      <th>1</th>\n",
       "      <td>1</td>\n",
       "      <td>0.008124</td>\n",
       "      <td>0.010039</td>\n",
       "    </tr>\n",
       "    <tr>\n",
       "      <th>2</th>\n",
       "      <td>2</td>\n",
       "      <td>0.008124</td>\n",
       "      <td>0.015847</td>\n",
       "    </tr>\n",
       "    <tr>\n",
       "      <th>3</th>\n",
       "      <td>3</td>\n",
       "      <td>0.008124</td>\n",
       "      <td>0.022239</td>\n",
       "    </tr>\n",
       "    <tr>\n",
       "      <th>4</th>\n",
       "      <td>4</td>\n",
       "      <td>0.008124</td>\n",
       "      <td>0.029237</td>\n",
       "    </tr>\n",
       "    <tr>\n",
       "      <th>...</th>\n",
       "      <td>...</td>\n",
       "      <td>...</td>\n",
       "      <td>...</td>\n",
       "    </tr>\n",
       "    <tr>\n",
       "      <th>9995</th>\n",
       "      <td>9995</td>\n",
       "      <td>6.368554</td>\n",
       "      <td>3.335668</td>\n",
       "    </tr>\n",
       "    <tr>\n",
       "      <th>9996</th>\n",
       "      <td>9996</td>\n",
       "      <td>6.368554</td>\n",
       "      <td>3.733306</td>\n",
       "    </tr>\n",
       "    <tr>\n",
       "      <th>9997</th>\n",
       "      <td>9997</td>\n",
       "      <td>6.368554</td>\n",
       "      <td>4.350208</td>\n",
       "    </tr>\n",
       "    <tr>\n",
       "      <th>9998</th>\n",
       "      <td>9998</td>\n",
       "      <td>6.368554</td>\n",
       "      <td>5.549423</td>\n",
       "    </tr>\n",
       "    <tr>\n",
       "      <th>9999</th>\n",
       "      <td>9999</td>\n",
       "      <td>6.368554</td>\n",
       "      <td>8.841804</td>\n",
       "    </tr>\n",
       "  </tbody>\n",
       "</table>\n",
       "<p>10000 rows × 3 columns</p>\n",
       "</div>"
      ],
      "text/plain": [
       "       vid  MEDIUM I  MEDIUM II\n",
       "0        0  0.008124   0.004772\n",
       "1        1  0.008124   0.010039\n",
       "2        2  0.008124   0.015847\n",
       "3        3  0.008124   0.022239\n",
       "4        4  0.008124   0.029237\n",
       "...    ...       ...        ...\n",
       "9995  9995  6.368554   3.335668\n",
       "9996  9996  6.368554   3.733306\n",
       "9997  9997  6.368554   4.350208\n",
       "9998  9998  6.368554   5.549423\n",
       "9999  9999  6.368554   8.841804\n",
       "\n",
       "[10000 rows x 3 columns]"
      ]
     },
     "execution_count": 11,
     "metadata": {},
     "output_type": "execute_result"
    }
   ],
   "source": [
    "virtual_society = adf.generate_virtual_society(\n",
    "    population_size=population_size, \n",
    "    media_cols=media, \n",
    "    id_col=\"vid\", \n",
    "    mode=\"uniform\"\n",
    ")\n",
    "\n",
    "\n",
    "virtual_society.dataframe"
   ]
  },
  {
   "cell_type": "markdown",
   "metadata": {},
   "source": [
    "## The multidimensional activity distribution of the society vs virtual society\n",
    "Here we demonstrate at the activity distribution for a society compared to the activity distribution of the virtual society. It is obvious that while the two are following the same aggregate pattern, they are completely different societies. The most important point here is that while the activity of a normal society looks like a random distribution, we pick the virtual society to follow a specific uniform pattern that still follows the aggregate strucutre of the original society."
   ]
  },
  {
   "cell_type": "code",
   "execution_count": 12,
   "metadata": {},
   "outputs": [
    {
     "data": {
      "text/plain": [
       "Text(0.5, 1.0, 'The activity distribution of the synthetic society.')"
      ]
     },
     "execution_count": 12,
     "metadata": {},
     "output_type": "execute_result"
    },
    {
     "data": {
      "image/png": "[encoded data removed]",
      "text/plain": [
       "<Figure size 432x288 with 1 Axes>"
      ]
     },
     "metadata": {
      "needs_background": "light"
     },
     "output_type": "display_data"
    }
   ],
   "source": [
    "fig, ax = plt.subplots()\n",
    "society.dataframe.plot(x='MEDIUM II', y='MEDIUM I', kind='scatter', style='o', s=0.5, ax=ax)\n",
    "ax.set_xlim(0, 10)\n",
    "ax.set_ylim(0, 10)\n",
    "ax.set_title(\"The activity distribution of the synthetic society.\")"
   ]
  },
  {
   "cell_type": "code",
   "execution_count": 13,
   "metadata": {},
   "outputs": [
    {
     "data": {
      "text/plain": [
       "Text(0.5, 1.0, 'The activity distribution of the virtual society.')"
      ]
     },
     "execution_count": 13,
     "metadata": {},
     "output_type": "execute_result"
    },
    {
     "data": {
      "image/png": "[encoded data removed]",
      "text/plain": [
       "<Figure size 432x288 with 1 Axes>"
      ]
     },
     "metadata": {
      "needs_background": "light"
     },
     "output_type": "display_data"
    }
   ],
   "source": [
    "fig, ax = plt.subplots()\n",
    "virtual_society.dataframe.plot(x='MEDIUM II', y='MEDIUM I', kind='scatter', s=0.5, ax=ax)\n",
    "ax.set_xlim(0, 10)\n",
    "ax.set_ylim(0, 10)\n",
    "ax.set_title(\"The activity distribution of the virtual society.\")"
   ]
  },
  {
   "cell_type": "markdown",
   "metadata": {},
   "source": [
    "# Assign the impressions to the virtual members of the virtual society\n",
    "The virtual society has the information about the users activity on each medium. Therefore, it can assign the impressions to the society (in the same fashion that we simulated the original campaign above). This mapping can be done using a random number generator or a deterministic hash function depending on the application and desired mapping methodology. Refer to the documentation to learn more about how mapping methodologies differ from each other.\n",
    "\n",
    "You should see the impression logs below assigned to the `vid`s. We have kept the `user_id`s here for comparison purposes but for real applications, the original `user_id` column should be dropped."
   ]
  },
  {
   "cell_type": "code",
   "execution_count": 14,
   "metadata": {},
   "outputs": [
    {
     "data": {
      "text/html": [
       "<div>\n",
       "<style scoped>\n",
       "    .dataframe tbody tr th:only-of-type {\n",
       "        vertical-align: middle;\n",
       "    }\n",
       "\n",
       "    .dataframe tbody tr th {\n",
       "        vertical-align: top;\n",
       "    }\n",
       "\n",
       "    .dataframe thead th {\n",
       "        text-align: right;\n",
       "    }\n",
       "</style>\n",
       "<table border=\"1\" class=\"dataframe\">\n",
       "  <thead>\n",
       "    <tr style=\"text-align: right;\">\n",
       "      <th></th>\n",
       "      <th>user_id</th>\n",
       "      <th>media</th>\n",
       "      <th>probability</th>\n",
       "      <th>vid</th>\n",
       "    </tr>\n",
       "  </thead>\n",
       "  <tbody>\n",
       "    <tr>\n",
       "      <th>0</th>\n",
       "      <td>997</td>\n",
       "      <td>MEDIUM I</td>\n",
       "      <td>0.374213</td>\n",
       "      <td>7686</td>\n",
       "    </tr>\n",
       "    <tr>\n",
       "      <th>1</th>\n",
       "      <td>2572</td>\n",
       "      <td>MEDIUM I</td>\n",
       "      <td>0.022221</td>\n",
       "      <td>2140</td>\n",
       "    </tr>\n",
       "    <tr>\n",
       "      <th>2</th>\n",
       "      <td>7488</td>\n",
       "      <td>MEDIUM I</td>\n",
       "      <td>0.669329</td>\n",
       "      <td>9124</td>\n",
       "    </tr>\n",
       "    <tr>\n",
       "      <th>3</th>\n",
       "      <td>9664</td>\n",
       "      <td>MEDIUM I</td>\n",
       "      <td>0.141074</td>\n",
       "      <td>5119</td>\n",
       "    </tr>\n",
       "    <tr>\n",
       "      <th>4</th>\n",
       "      <td>6764</td>\n",
       "      <td>MEDIUM I</td>\n",
       "      <td>0.141917</td>\n",
       "      <td>5105</td>\n",
       "    </tr>\n",
       "    <tr>\n",
       "      <th>...</th>\n",
       "      <td>...</td>\n",
       "      <td>...</td>\n",
       "      <td>...</td>\n",
       "      <td>...</td>\n",
       "    </tr>\n",
       "    <tr>\n",
       "      <th>79995</th>\n",
       "      <td>2223</td>\n",
       "      <td>MEDIUM II</td>\n",
       "      <td>0.054021</td>\n",
       "      <td>6033</td>\n",
       "    </tr>\n",
       "    <tr>\n",
       "      <th>79996</th>\n",
       "      <td>6947</td>\n",
       "      <td>MEDIUM II</td>\n",
       "      <td>0.938400</td>\n",
       "      <td>2499</td>\n",
       "    </tr>\n",
       "    <tr>\n",
       "      <th>79997</th>\n",
       "      <td>4667</td>\n",
       "      <td>MEDIUM II</td>\n",
       "      <td>0.729078</td>\n",
       "      <td>9893</td>\n",
       "    </tr>\n",
       "    <tr>\n",
       "      <th>79998</th>\n",
       "      <td>1749</td>\n",
       "      <td>MEDIUM II</td>\n",
       "      <td>0.099270</td>\n",
       "      <td>3243</td>\n",
       "    </tr>\n",
       "    <tr>\n",
       "      <th>79999</th>\n",
       "      <td>2648</td>\n",
       "      <td>MEDIUM II</td>\n",
       "      <td>0.605153</td>\n",
       "      <td>189</td>\n",
       "    </tr>\n",
       "  </tbody>\n",
       "</table>\n",
       "<p>120000 rows × 4 columns</p>\n",
       "</div>"
      ],
      "text/plain": [
       "       user_id      media  probability   vid\n",
       "0          997   MEDIUM I     0.374213  7686\n",
       "1         2572   MEDIUM I     0.022221  2140\n",
       "2         7488   MEDIUM I     0.669329  9124\n",
       "3         9664   MEDIUM I     0.141074  5119\n",
       "4         6764   MEDIUM I     0.141917  5105\n",
       "...        ...        ...          ...   ...\n",
       "79995     2223  MEDIUM II     0.054021  6033\n",
       "79996     6947  MEDIUM II     0.938400  2499\n",
       "79997     4667  MEDIUM II     0.729078  9893\n",
       "79998     1749  MEDIUM II     0.099270  3243\n",
       "79999     2648  MEDIUM II     0.605153   189\n",
       "\n",
       "[120000 rows x 4 columns]"
      ]
     },
     "execution_count": 14,
     "metadata": {},
     "output_type": "execute_result"
    }
   ],
   "source": [
    "vid_impressions = virtual_society.assign_impressions(impressions)\n",
    "\n",
    "vid_impressions"
   ]
  },
  {
   "cell_type": "markdown",
   "metadata": {},
   "source": [
    "# Generate the VID report\n",
    "\n",
    "We will now make a report from the vid impressions and plot it to see how the the measruement campares with the measurement of the original society ..."
   ]
  },
  {
   "cell_type": "code",
   "execution_count": 15,
   "metadata": {},
   "outputs": [
    {
     "data": {
      "text/plain": [
       "Text(0.5, 1.0, 'Two dimensional reach curve (VID assignments)')"
      ]
     },
     "execution_count": 15,
     "metadata": {},
     "output_type": "execute_result"
    },
    {
     "data": {
      "image/png": "[encoded data removed]",
      "text/plain": [
       "<Figure size 432x288 with 2 Axes>"
      ]
     },
     "metadata": {
      "needs_background": "light"
     },
     "output_type": "display_data"
    }
   ],
   "source": [
    "vid_report = generate_report(impressions, population_size=population_size, max_freq=20, id_col=\"vid\")\n",
    "\n",
    "# plot the virtual ID assigned report\n",
    "fig, ax = plt.subplots()\n",
    "vid_report.plot_2d_reach(dims=media, ax=ax)\n",
    "ax.set_title(\"Two dimensional reach curve (VID assignments)\")"
   ]
  },
  {
   "cell_type": "code",
   "execution_count": 20,
   "metadata": {
    "scrolled": true
   },
   "outputs": [
    {
     "data": {
      "image/png": "[encoded data removed]",
      "text/plain": [
       "<Figure size 720x288 with 2 Axes>"
      ]
     },
     "metadata": {
      "needs_background": "light"
     },
     "output_type": "display_data"
    }
   ],
   "source": [
    "# Plot the one dimenaional reach frequency distribution for each medium for the VID report\n",
    "\n",
    "fig, axs = plt.subplots(1, 2, figsize=(10, 4))\n",
    "for i, medium in enumerate(media) :\n",
    "    vid_report.plot_1d_reach(medium, ax=axs[i])"
   ]
  },
  {
   "cell_type": "code",
   "execution_count": 23,
   "metadata": {},
   "outputs": [
    {
     "data": {
      "text/plain": [
       "<AxesSubplot:xlabel='ALL MEDIA', ylabel='Reach'>"
      ]
     },
     "execution_count": 23,
     "metadata": {},
     "output_type": "execute_result"
    },
    {
     "data": {
      "image/png": "[encoded data removed]",
      "text/plain": [
       "<Figure size 432x288 with 1 Axes>"
      ]
     },
     "metadata": {
      "needs_background": "light"
     },
     "output_type": "display_data"
    }
   ],
   "source": [
    "# And the total combined report (again note that this is not a recommended reporting method)\n",
    "vid_report_1d_all = vid_report.combine_dims(['MEDIUM I', 'MEDIUM II'], 'ALL MEDIA')\n",
    "vid_report_1d_all.plot_1d_reach('ALL MEDIA')"
   ]
  },
  {
   "cell_type": "markdown",
   "metadata": {},
   "source": [
    "# Errors in the report generated by VID vs the original cross screen report\n",
    "Below we inverstigate the multidimensional frequency reach surface error between the mneasurement report of the original society vs the report that was generated by the VID assigned to the impression table.\n",
    "\n",
    "The first plot is the relative error between mutlidimensional reach over the range of 0 to 20+ frequencies. The error shows a noisey result specifically for higher frequencies. We also note that the error in the number will shrink as the size of the population increases. The specific bin error are larger from the expected resutls due to using a population size of only `10000`. We also plot the error with a gaussian filter to show that the error is relatively small across the multi-frequency reach curve.\n",
    "\n",
    "However, the important factors such as reach, overlap reach, and exclusive reach is shown to have a very reasonable accuracy, so the modelling correctly predicts the parameters of interest to ad campaign measurement.\n",
    "\n"
   ]
  },
  {
   "cell_type": "code",
   "execution_count": 16,
   "metadata": {},
   "outputs": [
    {
     "name": "stdout",
     "output_type": "stream",
     "text": [
      "(1, 1)\n"
     ]
    },
    {
     "data": {
      "text/html": [
       "<div>\n",
       "<style scoped>\n",
       "    .dataframe tbody tr th:only-of-type {\n",
       "        vertical-align: middle;\n",
       "    }\n",
       "\n",
       "    .dataframe tbody tr th {\n",
       "        vertical-align: top;\n",
       "    }\n",
       "\n",
       "    .dataframe thead th {\n",
       "        text-align: right;\n",
       "    }\n",
       "</style>\n",
       "<table border=\"1\" class=\"dataframe\">\n",
       "  <thead>\n",
       "    <tr style=\"text-align: right;\">\n",
       "      <th></th>\n",
       "      <th>Quantity</th>\n",
       "      <th>report_1</th>\n",
       "      <th>report_2</th>\n",
       "      <th>Relative percentage error</th>\n",
       "    </tr>\n",
       "  </thead>\n",
       "  <tbody>\n",
       "    <tr>\n",
       "      <th>0</th>\n",
       "      <td>Total reach of all media</td>\n",
       "      <td>9675</td>\n",
       "      <td>9697</td>\n",
       "      <td>-0.23</td>\n",
       "    </tr>\n",
       "    <tr>\n",
       "      <th>1</th>\n",
       "      <td>Exclusive reach on MEDIUM I</td>\n",
       "      <td>1016</td>\n",
       "      <td>1035</td>\n",
       "      <td>-1.87</td>\n",
       "    </tr>\n",
       "    <tr>\n",
       "      <th>2</th>\n",
       "      <td>Exclusive reach on MEDIUM II</td>\n",
       "      <td>2028</td>\n",
       "      <td>1965</td>\n",
       "      <td>3.11</td>\n",
       "    </tr>\n",
       "    <tr>\n",
       "      <th>3</th>\n",
       "      <td>Overalp of MEDIUM I and MEDIUM II</td>\n",
       "      <td>6631</td>\n",
       "      <td>6697</td>\n",
       "      <td>-1.00</td>\n",
       "    </tr>\n",
       "  </tbody>\n",
       "</table>\n",
       "</div>"
      ],
      "text/plain": [
       "                            Quantity  report_1  report_2  \\\n",
       "0           Total reach of all media      9675      9697   \n",
       "1        Exclusive reach on MEDIUM I      1016      1035   \n",
       "2       Exclusive reach on MEDIUM II      2028      1965   \n",
       "3  Overalp of MEDIUM I and MEDIUM II      6631      6697   \n",
       "\n",
       "   Relative percentage error  \n",
       "0                      -0.23  \n",
       "1                      -1.87  \n",
       "2                       3.11  \n",
       "3                      -1.00  "
      ]
     },
     "execution_count": 16,
     "metadata": {},
     "output_type": "execute_result"
    }
   ],
   "source": [
    "report.compare_dims(vid_report)"
   ]
  },
  {
   "cell_type": "code",
   "execution_count": 17,
   "metadata": {},
   "outputs": [
    {
     "data": {
      "text/plain": [
       "<matplotlib.colorbar.Colorbar at 0x7f95d9b84070>"
      ]
     },
     "execution_count": 17,
     "metadata": {},
     "output_type": "execute_result"
    },
    {
     "data": {
      "image/png": "[encoded data removed]",
      "text/plain": [
       "<Figure size 432x288 with 2 Axes>"
      ]
     },
     "metadata": {
      "needs_background": "light"
     },
     "output_type": "display_data"
    }
   ],
   "source": [
    "# Error across the multidimensional frequency domain\n",
    "error = 100*(vid_report.pivot_to_dim_cols().values - report.pivot_to_dim_cols().values)/report.pivot_to_dim_cols().values\n",
    "\n",
    "# clean up for the error matrix\n",
    "error = np.nan_to_num(error, nan=0, posinf=100, neginf=-100)\n",
    "error[error > 100] = 100\n",
    "error[error < -100] = -100\n",
    "\n",
    "\n",
    "fig, ax = plt.subplots()\n",
    "im = ax.imshow(error,\n",
    "           vmin=100,\n",
    "           vmax=-100,\n",
    "           cmap='seismic',\n",
    "           origin=\"lower\")\n",
    "fig.colorbar(im, ax=ax)"
   ]
  },
  {
   "cell_type": "code",
   "execution_count": 18,
   "metadata": {},
   "outputs": [
    {
     "data": {
      "text/plain": [
       "<matplotlib.colorbar.Colorbar at 0x7f95b8963490>"
      ]
     },
     "execution_count": 18,
     "metadata": {},
     "output_type": "execute_result"
    },
    {
     "data": {
      "image/png": "[encoded data removed]",
      "text/plain": [
       "<Figure size 432x288 with 2 Axes>"
      ]
     },
     "metadata": {
      "needs_background": "light"
     },
     "output_type": "display_data"
    }
   ],
   "source": [
    "# Apply a gaussian filter with sigma of 1 to smooth out the multi-frequency curve\n",
    "fig, ax = plt.subplots()\n",
    "im = ax.imshow(gaussian_filter(error, 1),\n",
    "           vmin=100,\n",
    "           vmax=-100,\n",
    "           cmap='seismic',\n",
    "           origin=\"lower\")\n",
    "fig.colorbar(im, ax=ax)"
   ]
  },
  {
   "cell_type": "markdown",
   "metadata": {},
   "source": [
    "# The mixture of delta functions\n",
    "Let us try to train an ADF which is made out of a mixture of delta function. We choose 10 delta functions for the initial distribution.\n",
    "\n",
    "You should see a similar distribution but with very different tail characteristics. This is why we believe the delta functions are not a good choice."
   ]
  },
  {
   "cell_type": "code",
   "execution_count": 19,
   "metadata": {},
   "outputs": [
    {
     "data": {
      "text/plain": [
       "Text(0.5, 1.0, 'Two dimensional reach curve (ADF reach)')"
      ]
     },
     "execution_count": 19,
     "metadata": {},
     "output_type": "execute_result"
    },
    {
     "data": {
      "image/png": "[encoded data removed]",
      "text/plain": [
       "<Figure size 432x288 with 2 Axes>"
      ]
     },
     "metadata": {
      "needs_background": "light"
     },
     "output_type": "display_data"
    }
   ],
   "source": [
    "adf_2 = MixtureOfDeltas.random(n_deltas=10, n_dims=2, rng=np.random.default_rng(1234))\n",
    "adf_2.train(report)\n",
    "\n",
    "# Plot the ADF generated reach surface\n",
    "fig, ax = plt.subplots()\n",
    "adf_2.plot_2d_reach(report.gr_values, dim_cols=media, max_freq=20,population_size=population_size,ax=ax)\n",
    "\n",
    "ax.set_title(\"Two dimensional reach curve (ADF reach)\")"
   ]
  },
  {
   "cell_type": "code",
   "execution_count": null,
   "metadata": {},
   "outputs": [],
   "source": []
  }
 ],
 "metadata": {
  "kernelspec": {
   "display_name": "Python 3",
   "language": "python",
   "name": "python3"
  },
  "language_info": {
   "codemirror_mode": {
    "name": "ipython",
    "version": 3
   },
   "file_extension": ".py",
   "mimetype": "text/x-python",
   "name": "python",
   "nbconvert_exporter": "python",
   "pygments_lexer": "ipython3",
   "version": "3.8.5"
  }
 },
 "nbformat": 4,
 "nbformat_minor": 4
}
